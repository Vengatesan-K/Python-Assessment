{
 "cells": [
  {
   "cell_type": "markdown",
   "metadata": {},
   "source": [
    "#  VEngage.AI - Assessment"
   ]
  },
  {
   "cell_type": "markdown",
   "metadata": {},
   "source": [
    "### Importing Libraries"
   ]
  },
  {
   "cell_type": "code",
   "execution_count": 106,
   "metadata": {},
   "outputs": [],
   "source": [
    "import csv\n",
    "import json\n",
    "import pandas as pd\n",
    "from tabulate import tabulate"
   ]
  },
  {
   "cell_type": "markdown",
   "metadata": {},
   "source": [
    "## Task 1"
   ]
  },
  {
   "cell_type": "markdown",
   "metadata": {},
   "source": [
    "### Creating Json/CSV Files"
   ]
  },
  {
   "cell_type": "code",
   "execution_count": 108,
   "metadata": {},
   "outputs": [
    {
     "name": "stdout",
     "output_type": "stream",
     "text": [
      "Phonebook data has been saved to phone_book.csv\n"
     ]
    }
   ],
   "source": [
    "phonebook_records = [\n",
    "    ['John', 'john@xyz.com', '123-456-789', '123-457-456'],['Doe', 'doe@xyz.com', '123-426-789', '121-457-456'],\n",
    "    ['Jane', 'jane@xyz.com', '124-524-135', '214-523-456'],['Smith', 'smith@xyz.com', '178-426-789', '145-457-456'],\n",
    "    ['Van', 'van@xyz.com', '123-452-689', '164-527-456'],['Das', 'das@xyz.com', '423-426-789', '421-457-456'],\n",
    "    ['Jack', 'jack@xyz.com', '223-524-135', '224-524-456'],['Steve', 'steve@xyz.com', '578-426-789', '545-457-456'],\n",
    "    ['Jeni', 'jeni@xyz.com', '323-456-745', '323-457-456'],['warner', 'warner@xyz.com', '323-456-789', '123-457-456'],\n",
    "    ['Doe', 'doe@xyz.com', '123-426-789', '121-457-456'],\n",
    "    ['david', 'david@xyz.com', '424-524-135', '414-523-456'],['Sam', 'sam@xyz.com', '678-426-789', '645-457-456'],\n",
    "    ['Vincent', 'vincent@xyz.com', '723-452-689', '764-527-456'],['kevin', 'kevin@xyz.com', '724-526789', '721-457-456'],\n",
    "    ['Alex', 'alex@xyz.com', '823-524-135', '824-524-456'],['Ben', 'ben@xyz.com', '878-426-789', '845-457-456'],\n",
    "]\n",
    "\n",
    "file_path = 'phone_book.csv'\n",
    "with open(file_path, 'w', newline='') as file:\n",
    "    writer = csv.writer(file)\n",
    "    writer.writerow(['Name', 'Email', 'Phone 1', 'Phone 2'])\n",
    "    writer.writerows(phonebook_records)\n",
    "\n",
    "print(f'Phonebook data has been saved to {file_path}')\n"
   ]
  },
  {
   "cell_type": "markdown",
   "metadata": {},
   "source": [
    "### Methods To read CSV"
   ]
  },
  {
   "cell_type": "code",
   "execution_count": 96,
   "metadata": {},
   "outputs": [],
   "source": [
    "class CSVReader:\n",
    "    def method_1(self, file_path):\n",
    "        try:\n",
    "            with open(file_path, 'r') as file:\n",
    "                reader = csv.reader(file)\n",
    "                for row in reader:\n",
    "                    print(row)\n",
    "        except FileNotFoundError:\n",
    "            print(f\"File '{file_path}' not found.\")\n",
    "    \n",
    "    def method_2(self, file_path):\n",
    "        try:\n",
    "            with open(file_path, 'r') as file:    \n",
    "                reader = csv.DictReader(file)\n",
    "                for row in reader:\n",
    "                    print(row)\n",
    "        except FileNotFoundError:\n",
    "            print(f\"File '{file_path}' not found.\")\n",
    "    \n",
    "    def method_3(self, file_path):\n",
    "        try:\n",
    "            reader = pd.read_csv(file_path)\n",
    "            print(reader)\n",
    "        except FileNotFoundError:\n",
    "            print(f\"File '{file_path}' not found.\")\n",
    "    \n",
    "    def method_4(self, file_path):\n",
    "        try:\n",
    "            csv.register_dialect('myDialect',\n",
    "                                 delimiter='|',\n",
    "                                 skipinitialspace=True,\n",
    "                                 quoting=csv.QUOTE_ALL)\n",
    "\n",
    "            with open(file_path, 'r') as csvfile:\n",
    "                reader = csv.reader(csvfile, dialect='myDialect')\n",
    "                for row in reader:\n",
    "                    print(row)\n",
    "        except FileNotFoundError:\n",
    "            print(f\"File '{file_path}' not found.\")\n",
    "    \n",
    "    def method_5(self, file_path):\n",
    "        try:\n",
    "            with open(file_path, 'r') as file:\n",
    "                csv_file = csv.DictReader(file)\n",
    "                for row in csv_file:\n",
    "                    print(dict(row))\n",
    "        except FileNotFoundError:\n",
    "            print(f\"File '{file_path}' not found.\")\n",
    "    \n",
    "    def method_6(self, file_path):\n",
    "        try:\n",
    "            with open(file_path, 'r') as csvfile:\n",
    "                sample = csvfile.read(64)\n",
    "                has_header = csv.Sniffer().has_header(sample)\n",
    "                print(has_header)\n",
    "\n",
    "                deduced_dialect = csv.Sniffer().sniff(sample)\n",
    "\n",
    "            with open(file_path, 'r') as csvfile:\n",
    "                reader = csv.reader(csvfile, deduced_dialect)\n",
    "                for row in reader:\n",
    "                    print(row)\n",
    "        except FileNotFoundError:\n",
    "            print(f\"File '{file_path}' not found.\")"
   ]
  },
  {
   "cell_type": "code",
   "execution_count": 102,
   "metadata": {},
   "outputs": [
    {
     "name": "stdout",
     "output_type": "stream",
     "text": [
      "['Name', 'Email', 'Phone 1', 'Phone 2']\n",
      "['John', 'john@xyz.com', '123456789', '123457456']\n",
      "['Doe', 'doe@xyz.com', '123426789', '121457456']\n",
      "['Jane', 'jane@xyz.com', '124524135', '214523456']\n",
      "['Smith', 'smith@xyz.com', '178426789', '145457456']\n",
      "['Van', 'van@xyz.com', '123452689', '164527456']\n",
      "['Das', 'das@xyz.com', '423426789', '421457456']\n",
      "['Jack', 'jack@xyz.com', '223524135', '224524456']\n",
      "['Steve', 'steve@xyz.com', '578426789', '545457456']\n",
      "['Jeni', 'jeni@xyz.com', '323456745', '323457456']\n",
      "['warner', 'warner@xyz.com', '323456789', '123457456']\n",
      "['Doe', 'doe@xyz.com', '123426789', '121457456']\n",
      "['david', 'david@xyz.com', '424524135', '414523456']\n",
      "['Sam', 'sam@xyz.com', '678426789', '645457456']\n",
      "['Vincent', 'vincent@xyz.com', '723452689', '764527456']\n",
      "['kevin', 'kevin@xyz.com', '724526789', '721457456']\n",
      "['Alex', 'alex@xyz.com', '823524135', '824524456']\n",
      "['Ben', 'ben@xyz.com', '878426789', '845457456']\n"
     ]
    }
   ],
   "source": [
    "csv_reader = CSVReader()\n",
    "file_path = 'phonebook.csv'  # Replace with your file path\n",
    "csv_reader.method_1(file_path)\n"
   ]
  },
  {
   "cell_type": "code",
   "execution_count": 103,
   "metadata": {},
   "outputs": [
    {
     "name": "stdout",
     "output_type": "stream",
     "text": [
      "       Name            Email    Phone 1    Phone 2\n",
      "0      John     john@xyz.com  123456789  123457456\n",
      "1       Doe      doe@xyz.com  123426789  121457456\n",
      "2      Jane     jane@xyz.com  124524135  214523456\n",
      "3     Smith    smith@xyz.com  178426789  145457456\n",
      "4       Van      van@xyz.com  123452689  164527456\n",
      "5       Das      das@xyz.com  423426789  421457456\n",
      "6      Jack     jack@xyz.com  223524135  224524456\n",
      "7     Steve    steve@xyz.com  578426789  545457456\n",
      "8      Jeni     jeni@xyz.com  323456745  323457456\n",
      "9    warner   warner@xyz.com  323456789  123457456\n",
      "10      Doe      doe@xyz.com  123426789  121457456\n",
      "11    david    david@xyz.com  424524135  414523456\n",
      "12      Sam      sam@xyz.com  678426789  645457456\n",
      "13  Vincent  vincent@xyz.com  723452689  764527456\n",
      "14    kevin    kevin@xyz.com  724526789  721457456\n",
      "15     Alex     alex@xyz.com  823524135  824524456\n",
      "16      Ben      ben@xyz.com  878426789  845457456\n"
     ]
    }
   ],
   "source": [
    "csv_reader.method_3(file_path)"
   ]
  },
  {
   "cell_type": "code",
   "execution_count": 104,
   "metadata": {},
   "outputs": [
    {
     "name": "stdout",
     "output_type": "stream",
     "text": [
      "True\n",
      "['Name', 'Email', 'Phone 1', 'Phone 2']\n",
      "['John', 'john@xyz.com', '123456789', '123457456']\n",
      "['Doe', 'doe@xyz.com', '123426789', '121457456']\n",
      "['Jane', 'jane@xyz.com', '124524135', '214523456']\n",
      "['Smith', 'smith@xyz.com', '178426789', '145457456']\n",
      "['Van', 'van@xyz.com', '123452689', '164527456']\n",
      "['Das', 'das@xyz.com', '423426789', '421457456']\n",
      "['Jack', 'jack@xyz.com', '223524135', '224524456']\n",
      "['Steve', 'steve@xyz.com', '578426789', '545457456']\n",
      "['Jeni', 'jeni@xyz.com', '323456745', '323457456']\n",
      "['warner', 'warner@xyz.com', '323456789', '123457456']\n",
      "['Doe', 'doe@xyz.com', '123426789', '121457456']\n",
      "['david', 'david@xyz.com', '424524135', '414523456']\n",
      "['Sam', 'sam@xyz.com', '678426789', '645457456']\n",
      "['Vincent', 'vincent@xyz.com', '723452689', '764527456']\n",
      "['kevin', 'kevin@xyz.com', '724526789', '721457456']\n",
      "['Alex', 'alex@xyz.com', '823524135', '824524456']\n",
      "['Ben', 'ben@xyz.com', '878426789', '845457456']\n"
     ]
    }
   ],
   "source": [
    "csv_reader.method_6(file_path)"
   ]
  },
  {
   "cell_type": "markdown",
   "metadata": {},
   "source": [
    "### Creating Json File"
   ]
  },
  {
   "cell_type": "code",
   "execution_count": 109,
   "metadata": {},
   "outputs": [
    {
     "name": "stdout",
     "output_type": "stream",
     "text": [
      "Phonebook data has been saved to phone_book.json\n"
     ]
    }
   ],
   "source": [
    "phonebook_records = [\n",
    "    {\n",
    "        'Name': 'John Doe',\n",
    "        'Email': 'johndoe@example.com',\n",
    "        'Phone 1': '1234567890',\n",
    "        'Phone 2': '9876543210'\n",
    "    },\n",
    "    {\n",
    "        'Name': 'Jane Smith',\n",
    "        'Email': 'janesmith@example.com',\n",
    "        'Phone 1': '1112223333',\n",
    "        'Phone 2': '4445556666'\n",
    "    },\n",
    "\n",
    "    {\n",
    "        'Name': 'Alice Johnson',\n",
    "        'Email': 'alice@example.com',\n",
    "        'Phone 1': '7778889999',\n",
    "        'Phone 2': '1112223333'\n",
    "    },\n",
    "    {\n",
    "        'Name': 'Bob Williams',\n",
    "        'Email': 'bob@example.com',\n",
    "        'Phone 1': '3334445555',\n",
    "        'Phone 2': '8889990000'\n",
    "    },\n",
    "    {\n",
    "        'Name': 'Eva Brown',\n",
    "        'Email': 'eva@example.com',\n",
    "        'Phone 1': '5556667777',\n",
    "        'Phone 2': '2223334444'\n",
    "    },\n",
    "    {\n",
    "        'Name': 'David Davis',\n",
    "        'Email': 'david@example.com',\n",
    "        'Phone 1': '9990001111',\n",
    "        'Phone 2': '6667778888'\n",
    "    },\n",
    "    {\n",
    "        'Name': 'Grace Wilson',\n",
    "        'Email': 'grace@example.com',\n",
    "        'Phone 1': '2223334444',\n",
    "        'Phone 2': '5556667777'\n",
    "    },\n",
    "    {\n",
    "        'Name': 'Samuel Lee',\n",
    "        'Email': 'samuel@example.com',\n",
    "        'Phone 1': '8889990000',\n",
    "        'Phone 2': '3334445555'\n",
    "    },\n",
    "    {\n",
    "        'Name': 'Sophia Martinez',\n",
    "        'Email': 'sophia@example.com',\n",
    "        'Phone 1': '6667778888',\n",
    "        'Phone 2': '9990001111'\n",
    "    },\n",
    "    {\n",
    "        'Name': 'Olivia Garcia',\n",
    "        'Email': 'olivia@example.com',\n",
    "        'Phone 1': '4445556666',\n",
    "        'Phone 2': '1112223333'\n",
    "    },\n",
    "    {\n",
    "        'Name': 'Liam Lopez',\n",
    "        'Email': 'liam@example.com',\n",
    "        'Phone 1': '1112223333',\n",
    "        'Phone 2': '4445556666'\n",
    "    },\n",
    "    {\n",
    "        'Name': 'Ava Hernandez',\n",
    "        'Email': 'ava@example.com',\n",
    "        'Phone 1': '2223334444',\n",
    "        'Phone 2': '5556667777'\n",
    "    },\n",
    "    {\n",
    "        'Name': 'Noah Gonzalez',\n",
    "        'Email': 'noah@example.com',\n",
    "        'Phone 1': '5556667777',\n",
    "        'Phone 2': '2223334444'\n",
    "    },\n",
    "    {\n",
    "        'Name': 'Emma Perez',\n",
    "        'Email': 'emma@example.com',\n",
    "        'Phone 1': '9990001111',\n",
    "        'Phone 2': '6667778888'\n",
    "    },\n",
    "    {\n",
    "        'Name': 'William Smith',\n",
    "        'Email': 'william@example.com',\n",
    "        'Phone 1': '3334445555',\n",
    "        'Phone 2': '8889990000'\n",
    "    },\n",
    "    {\n",
    "        'Name': 'John',\n",
    "        'Email': 'janesmith@example.com',\n",
    "        'Phone 1': '1112223333',\n",
    "        'Phone 2': '4445556666'\n",
    "    },\n",
    "    {\n",
    "        'Name': 'Doe',\n",
    "        'Email': 'janesmith@example.com',\n",
    "        'Phone 1': '1112223333',\n",
    "        'Phone 2': '4445556666'\n",
    "    }\n",
    "    \n",
    "]\n",
    "\n",
    "file_path = 'phone_book.json'\n",
    "with open(file_path, 'w') as file:\n",
    "    json.dump(phonebook_records, file, indent=4)\n",
    "\n",
    "print(f'Phonebook data has been saved to {file_path}')"
   ]
  },
  {
   "cell_type": "markdown",
   "metadata": {},
   "source": [
    "### Methods To read Json"
   ]
  },
  {
   "cell_type": "code",
   "execution_count": 91,
   "metadata": {},
   "outputs": [],
   "source": [
    "class JSONReader:\n",
    "    def method_1(self, file_path):\n",
    "        try:\n",
    "            with open(file_path, 'r') as file:\n",
    "                data = json.load(file)\n",
    "                print(data)\n",
    "        except FileNotFoundError:\n",
    "            print(f\"File '{file_path}' not found.\")\n",
    "        except json.JSONDecodeError as e:\n",
    "            print(f\"Error decoding JSON in file '{file_path}': {e}\")\n",
    "    \n",
    "    def method_2(self, file_path):\n",
    "     try:\n",
    "        df = pd.read_json(file_path)\n",
    "        print(df)\n",
    "     except FileNotFoundError:\n",
    "        print(f\"File '{file_path}' not found.\")\n",
    "        \n",
    "    def method_3(self, file_path):\n",
    "     try:\n",
    "        with open(file_path, 'r') as file:\n",
    "            data = json.load(file)\n",
    "            headers = data[0].keys() if isinstance(data, list) and len(data) > 0 else []\n",
    "            rows = [list(item.values()) for item in data] if isinstance(data, list) else []\n",
    "            print(tabulate(rows, headers=headers))\n",
    "     except FileNotFoundError:\n",
    "        print(f\"File '{file_path}' not found.\")\n",
    "\n"
   ]
  },
  {
   "cell_type": "code",
   "execution_count": 92,
   "metadata": {},
   "outputs": [],
   "source": [
    "json_reader = JSONReader()\n",
    "file_path = 'phonebook.json' # Replace with your file path"
   ]
  },
  {
   "cell_type": "code",
   "execution_count": 93,
   "metadata": {},
   "outputs": [
    {
     "name": "stdout",
     "output_type": "stream",
     "text": [
      "[{'Name': 'John Doe', 'Email': 'johndoe@example.com', 'Phone 1': '1234567890', 'Phone 2': '9876543210'}, {'Name': 'Jane Smith', 'Email': 'janesmith@example.com', 'Phone 1': '1112223333', 'Phone 2': '4445556666'}, {'Name': 'Alice Johnson', 'Email': 'alice@example.com', 'Phone 1': '7778889999', 'Phone 2': '1112223333'}, {'Name': 'Bob Williams', 'Email': 'bob@example.com', 'Phone 1': '3334445555', 'Phone 2': '8889990000'}, {'Name': 'Eva Brown', 'Email': 'eva@example.com', 'Phone 1': '5556667777', 'Phone 2': '2223334444'}, {'Name': 'David Davis', 'Email': 'david@example.com', 'Phone 1': '9990001111', 'Phone 2': '6667778888'}, {'Name': 'Grace Wilson', 'Email': 'grace@example.com', 'Phone 1': '2223334444', 'Phone 2': '5556667777'}, {'Name': 'Samuel Lee', 'Email': 'samuel@example.com', 'Phone 1': '8889990000', 'Phone 2': '3334445555'}, {'Name': 'Sophia Martinez', 'Email': 'sophia@example.com', 'Phone 1': '6667778888', 'Phone 2': '9990001111'}, {'Name': 'Olivia Garcia', 'Email': 'olivia@example.com', 'Phone 1': '4445556666', 'Phone 2': '1112223333'}, {'Name': 'Liam Lopez', 'Email': 'liam@example.com', 'Phone 1': '1112223333', 'Phone 2': '4445556666'}, {'Name': 'Ava Hernandez', 'Email': 'ava@example.com', 'Phone 1': '2223334444', 'Phone 2': '5556667777'}, {'Name': 'Noah Gonzalez', 'Email': 'noah@example.com', 'Phone 1': '5556667777', 'Phone 2': '2223334444'}, {'Name': 'Emma Perez', 'Email': 'emma@example.com', 'Phone 1': '9990001111', 'Phone 2': '6667778888'}, {'Name': 'William Smith', 'Email': 'william@example.com', 'Phone 1': '3334445555', 'Phone 2': '8889990000'}]\n"
     ]
    }
   ],
   "source": [
    "json_reader.method_1(file_path)"
   ]
  },
  {
   "cell_type": "code",
   "execution_count": 94,
   "metadata": {},
   "outputs": [
    {
     "name": "stdout",
     "output_type": "stream",
     "text": [
      "               Name                  Email     Phone 1     Phone 2\n",
      "0          John Doe    johndoe@example.com  1234567890  9876543210\n",
      "1        Jane Smith  janesmith@example.com  1112223333  4445556666\n",
      "2     Alice Johnson      alice@example.com  7778889999  1112223333\n",
      "3      Bob Williams        bob@example.com  3334445555  8889990000\n",
      "4         Eva Brown        eva@example.com  5556667777  2223334444\n",
      "5       David Davis      david@example.com  9990001111  6667778888\n",
      "6      Grace Wilson      grace@example.com  2223334444  5556667777\n",
      "7        Samuel Lee     samuel@example.com  8889990000  3334445555\n",
      "8   Sophia Martinez     sophia@example.com  6667778888  9990001111\n",
      "9     Olivia Garcia     olivia@example.com  4445556666  1112223333\n",
      "10       Liam Lopez       liam@example.com  1112223333  4445556666\n",
      "11    Ava Hernandez        ava@example.com  2223334444  5556667777\n",
      "12    Noah Gonzalez       noah@example.com  5556667777  2223334444\n",
      "13       Emma Perez       emma@example.com  9990001111  6667778888\n",
      "14    William Smith    william@example.com  3334445555  8889990000\n"
     ]
    }
   ],
   "source": [
    "json_reader.method_2(file_path)"
   ]
  },
  {
   "cell_type": "code",
   "execution_count": 95,
   "metadata": {},
   "outputs": [
    {
     "name": "stdout",
     "output_type": "stream",
     "text": [
      "Name             Email                     Phone 1     Phone 2\n",
      "---------------  ---------------------  ----------  ----------\n",
      "John Doe         johndoe@example.com    1234567890  9876543210\n",
      "Jane Smith       janesmith@example.com  1112223333  4445556666\n",
      "Alice Johnson    alice@example.com      7778889999  1112223333\n",
      "Bob Williams     bob@example.com        3334445555  8889990000\n",
      "Eva Brown        eva@example.com        5556667777  2223334444\n",
      "David Davis      david@example.com      9990001111  6667778888\n",
      "Grace Wilson     grace@example.com      2223334444  5556667777\n",
      "Samuel Lee       samuel@example.com     8889990000  3334445555\n",
      "Sophia Martinez  sophia@example.com     6667778888  9990001111\n",
      "Olivia Garcia    olivia@example.com     4445556666  1112223333\n",
      "Liam Lopez       liam@example.com       1112223333  4445556666\n",
      "Ava Hernandez    ava@example.com        2223334444  5556667777\n",
      "Noah Gonzalez    noah@example.com       5556667777  2223334444\n",
      "Emma Perez       emma@example.com       9990001111  6667778888\n",
      "William Smith    william@example.com    3334445555  8889990000\n"
     ]
    }
   ],
   "source": [
    "json_reader.method_3(file_path)"
   ]
  },
  {
   "cell_type": "code",
   "execution_count": null,
   "metadata": {},
   "outputs": [],
   "source": []
  },
  {
   "cell_type": "code",
   "execution_count": null,
   "metadata": {},
   "outputs": [],
   "source": []
  },
  {
   "cell_type": "code",
   "execution_count": null,
   "metadata": {},
   "outputs": [],
   "source": []
  },
  {
   "cell_type": "code",
   "execution_count": null,
   "metadata": {},
   "outputs": [],
   "source": []
  },
  {
   "cell_type": "code",
   "execution_count": null,
   "metadata": {},
   "outputs": [],
   "source": []
  },
  {
   "cell_type": "code",
   "execution_count": null,
   "metadata": {},
   "outputs": [],
   "source": []
  },
  {
   "cell_type": "code",
   "execution_count": null,
   "metadata": {},
   "outputs": [],
   "source": []
  }
 ],
 "metadata": {
  "kernelspec": {
   "display_name": ".venv",
   "language": "python",
   "name": "python3"
  },
  "language_info": {
   "codemirror_mode": {
    "name": "ipython",
    "version": 3
   },
   "file_extension": ".py",
   "mimetype": "text/x-python",
   "name": "python",
   "nbconvert_exporter": "python",
   "pygments_lexer": "ipython3",
   "version": "3.11.2"
  }
 },
 "nbformat": 4,
 "nbformat_minor": 2
}
